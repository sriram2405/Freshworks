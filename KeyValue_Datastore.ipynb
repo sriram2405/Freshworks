{
 "cells": [
  {
   "cell_type": "code",
   "execution_count": 1,
   "metadata": {},
   "outputs": [],
   "source": [
    "import json"
   ]
  },
  {
   "cell_type": "code",
   "execution_count": 16,
   "metadata": {},
   "outputs": [
    {
     "name": "stdout",
     "output_type": "stream",
     "text": [
      "Creating a Json file\n"
     ]
    }
   ],
   "source": [
    "print(\"Creating a Json file\")\n",
    "temp={}\n",
    "with open('main.json','w') as createhandle:\n",
    "    json.dump(temp,createhandle)"
   ]
  },
  {
   "cell_type": "code",
   "execution_count": 17,
   "metadata": {},
   "outputs": [
    {
     "name": "stdout",
     "output_type": "stream",
     "text": [
      "opening Json\n",
      "Main Json loaded\n",
      "{}\n"
     ]
    }
   ],
   "source": [
    "print(\"opening Json\")\n",
    "with open('main.json','r') as mainhandle:\n",
    "    json_load = json.load(mainhandle)\n",
    "dummy = json_load\n",
    "print(\"Main Json loaded\")\n",
    "print(json_load)"
   ]
  },
  {
   "cell_type": "code",
   "execution_count": 18,
   "metadata": {},
   "outputs": [],
   "source": [
    "def createjson():\n",
    "    key = input(\"Enter key: \")\n",
    "    value = input(\"Enter key value pair: \")\n",
    "    if key not in dummy.keys():\n",
    "        dummy[key]=value\n",
    "        print(\"Created successfully\")\n",
    "    else:\n",
    "        print(\"key already exist\")\n",
    "def readjson(key):\n",
    "    if key in dummy.keys():\n",
    "        return (dummy[key])\n",
    "    else:\n",
    "        print(\"key does not exist\")\n",
    "def deletejson(key):\n",
    "    if key in dummy.keys():\n",
    "        dummy.pop(key)\n",
    "    else:\n",
    "        print(\"key not found\")"
   ]
  },
  {
   "cell_type": "code",
   "execution_count": 19,
   "metadata": {},
   "outputs": [
    {
     "name": "stdout",
     "output_type": "stream",
     "text": [
      "Enter \n",
      "1)Create\n",
      "2)Read\n",
      "3)Delete\n",
      "4)Display Json\n"
     ]
    }
   ],
   "source": [
    "print(\"Enter \\n1)Create\\n2)Read\\n3)Delete\\n4)Display Json\")"
   ]
  },
  {
   "cell_type": "code",
   "execution_count": 20,
   "metadata": {},
   "outputs": [
    {
     "name": "stdout",
     "output_type": "stream",
     "text": [
      "enter choice: 2\n",
      "Enter Key to read data: 77\n",
      "key does not exist\n",
      "None\n",
      "enter choice: 1\n",
      "Enter key: 5\n",
      "Enter key value pair: 77\n",
      "Created successfully\n",
      "enter choice: 1\n",
      "Enter key: 54\n",
      "Enter key value pair: 67\n",
      "Created successfully\n",
      "enter choice: 6\n"
     ]
    }
   ],
   "source": [
    "while(True):\n",
    "    n = int(input(\"enter choice: \"))\n",
    "    if(n==1):\n",
    "        createjson()\n",
    "    if(n==2):\n",
    "        key = input(\"Enter Key to read data: \")\n",
    "        print(readjson(key))\n",
    "    if(n==3):\n",
    "        key = input(\"Enter Key to delete data: \")\n",
    "        deletejson(key)\n",
    "        print(\"key deleted\")\n",
    "    if(n==4):\n",
    "        print(dummy)\n",
    "    if(n>=5):\n",
    "        break"
   ]
  },
  {
   "cell_type": "code",
   "execution_count": 21,
   "metadata": {},
   "outputs": [],
   "source": [
    "with open(\"main.json\",\"w\") as writehandle:\n",
    "    json.dump(dummy,writehandle)"
   ]
  },
  {
   "cell_type": "code",
   "execution_count": null,
   "metadata": {},
   "outputs": [],
   "source": []
  }
 ],
 "metadata": {
  "kernelspec": {
   "display_name": "Python 3",
   "language": "python",
   "name": "python3"
  },
  "language_info": {
   "codemirror_mode": {
    "name": "ipython",
    "version": 3
   },
   "file_extension": ".py",
   "mimetype": "text/x-python",
   "name": "python",
   "nbconvert_exporter": "python",
   "pygments_lexer": "ipython3",
   "version": "3.7.6"
  }
 },
 "nbformat": 4,
 "nbformat_minor": 4
}
